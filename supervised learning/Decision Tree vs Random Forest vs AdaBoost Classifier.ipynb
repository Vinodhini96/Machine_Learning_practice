{
 "cells": [
  {
   "cell_type": "markdown",
   "id": "71bbc8f7",
   "metadata": {},
   "source": [
    "# Decision Tree vs Random Forest vs AdaBoost Classifier\n",
    "by Vinodhini Rajamanickam"
   ]
  },
  {
   "cell_type": "markdown",
   "id": "2d8fb0d4",
   "metadata": {},
   "source": [
    "### import necessary packages"
   ]
  },
  {
   "cell_type": "code",
   "execution_count": 50,
   "id": "f8e4857f",
   "metadata": {},
   "outputs": [],
   "source": [
    "import pandas as pd\n",
    "\n",
    "from sklearn.tree import DecisionTreeClassifier\n",
    "\n",
    "from sklearn.ensemble import RandomForestClassifier, AdaBoostClassifier\n",
    "from sklearn.metrics import confusion_matrix, accuracy_score,precision_score \n",
    "\n",
    "from sklearn.preprocessing import LabelEncoder\n",
    "\n",
    "from sklearn.model_selection import train_test_split\n"
   ]
  },
  {
   "cell_type": "markdown",
   "id": "b41baf8f",
   "metadata": {},
   "source": [
    "## zomato file"
   ]
  },
  {
   "cell_type": "code",
   "execution_count": 5,
   "id": "0f6fbe2e",
   "metadata": {},
   "outputs": [],
   "source": [
    "#load and read data\n",
    "zomato = pd.read_csv(\"zomato.csv\")"
   ]
  },
  {
   "cell_type": "code",
   "execution_count": 6,
   "id": "eeb1a671",
   "metadata": {},
   "outputs": [
    {
     "data": {
      "text/html": [
       "<div>\n",
       "<style scoped>\n",
       "    .dataframe tbody tr th:only-of-type {\n",
       "        vertical-align: middle;\n",
       "    }\n",
       "\n",
       "    .dataframe tbody tr th {\n",
       "        vertical-align: top;\n",
       "    }\n",
       "\n",
       "    .dataframe thead th {\n",
       "        text-align: right;\n",
       "    }\n",
       "</style>\n",
       "<table border=\"1\" class=\"dataframe\">\n",
       "  <thead>\n",
       "    <tr style=\"text-align: right;\">\n",
       "      <th></th>\n",
       "      <th>url</th>\n",
       "      <th>address</th>\n",
       "      <th>name</th>\n",
       "      <th>online_order</th>\n",
       "      <th>book_table</th>\n",
       "      <th>rate</th>\n",
       "      <th>votes</th>\n",
       "      <th>phone</th>\n",
       "      <th>location</th>\n",
       "      <th>rest_type</th>\n",
       "      <th>dish_liked</th>\n",
       "      <th>cuisines</th>\n",
       "      <th>approx_cost(for two people)</th>\n",
       "      <th>reviews_list</th>\n",
       "      <th>menu_item</th>\n",
       "      <th>listed_in(type)</th>\n",
       "      <th>listed_in(city)</th>\n",
       "    </tr>\n",
       "  </thead>\n",
       "  <tbody>\n",
       "    <tr>\n",
       "      <th>0</th>\n",
       "      <td>https://www.zomato.com/bangalore/jalsa-banasha...</td>\n",
       "      <td>942, 21st Main Road, 2nd Stage, Banashankari, ...</td>\n",
       "      <td>Jalsa</td>\n",
       "      <td>Yes</td>\n",
       "      <td>Yes</td>\n",
       "      <td>4.1/5</td>\n",
       "      <td>775</td>\n",
       "      <td>080 42297555\\r\\n+91 9743772233</td>\n",
       "      <td>Banashankari</td>\n",
       "      <td>Casual Dining</td>\n",
       "      <td>Pasta, Lunch Buffet, Masala Papad, Paneer Laja...</td>\n",
       "      <td>North Indian, Mughlai, Chinese</td>\n",
       "      <td>800</td>\n",
       "      <td>[('Rated 4.0', 'RATED\\n  A beautiful place to ...</td>\n",
       "      <td>[]</td>\n",
       "      <td>Buffet</td>\n",
       "      <td>Banashankari</td>\n",
       "    </tr>\n",
       "    <tr>\n",
       "      <th>1</th>\n",
       "      <td>https://www.zomato.com/bangalore/spice-elephan...</td>\n",
       "      <td>2nd Floor, 80 Feet Road, Near Big Bazaar, 6th ...</td>\n",
       "      <td>Spice Elephant</td>\n",
       "      <td>Yes</td>\n",
       "      <td>No</td>\n",
       "      <td>4.1/5</td>\n",
       "      <td>787</td>\n",
       "      <td>080 41714161</td>\n",
       "      <td>Banashankari</td>\n",
       "      <td>Casual Dining</td>\n",
       "      <td>Momos, Lunch Buffet, Chocolate Nirvana, Thai G...</td>\n",
       "      <td>Chinese, North Indian, Thai</td>\n",
       "      <td>800</td>\n",
       "      <td>[('Rated 4.0', 'RATED\\n  Had been here for din...</td>\n",
       "      <td>[]</td>\n",
       "      <td>Buffet</td>\n",
       "      <td>Banashankari</td>\n",
       "    </tr>\n",
       "    <tr>\n",
       "      <th>2</th>\n",
       "      <td>https://www.zomato.com/SanchurroBangalore?cont...</td>\n",
       "      <td>1112, Next to KIMS Medical College, 17th Cross...</td>\n",
       "      <td>San Churro Cafe</td>\n",
       "      <td>Yes</td>\n",
       "      <td>No</td>\n",
       "      <td>3.8/5</td>\n",
       "      <td>918</td>\n",
       "      <td>+91 9663487993</td>\n",
       "      <td>Banashankari</td>\n",
       "      <td>Cafe, Casual Dining</td>\n",
       "      <td>Churros, Cannelloni, Minestrone Soup, Hot Choc...</td>\n",
       "      <td>Cafe, Mexican, Italian</td>\n",
       "      <td>800</td>\n",
       "      <td>[('Rated 3.0', \"RATED\\n  Ambience is not that ...</td>\n",
       "      <td>[]</td>\n",
       "      <td>Buffet</td>\n",
       "      <td>Banashankari</td>\n",
       "    </tr>\n",
       "    <tr>\n",
       "      <th>3</th>\n",
       "      <td>https://www.zomato.com/bangalore/addhuri-udupi...</td>\n",
       "      <td>1st Floor, Annakuteera, 3rd Stage, Banashankar...</td>\n",
       "      <td>Addhuri Udupi Bhojana</td>\n",
       "      <td>No</td>\n",
       "      <td>No</td>\n",
       "      <td>3.7/5</td>\n",
       "      <td>88</td>\n",
       "      <td>+91 9620009302</td>\n",
       "      <td>Banashankari</td>\n",
       "      <td>Quick Bites</td>\n",
       "      <td>Masala Dosa</td>\n",
       "      <td>South Indian, North Indian</td>\n",
       "      <td>300</td>\n",
       "      <td>[('Rated 4.0', \"RATED\\n  Great food and proper...</td>\n",
       "      <td>[]</td>\n",
       "      <td>Buffet</td>\n",
       "      <td>Banashankari</td>\n",
       "    </tr>\n",
       "    <tr>\n",
       "      <th>4</th>\n",
       "      <td>https://www.zomato.com/bangalore/grand-village...</td>\n",
       "      <td>10, 3rd Floor, Lakshmi Associates, Gandhi Baza...</td>\n",
       "      <td>Grand Village</td>\n",
       "      <td>No</td>\n",
       "      <td>No</td>\n",
       "      <td>3.8/5</td>\n",
       "      <td>166</td>\n",
       "      <td>+91 8026612447\\r\\n+91 9901210005</td>\n",
       "      <td>Basavanagudi</td>\n",
       "      <td>Casual Dining</td>\n",
       "      <td>Panipuri, Gol Gappe</td>\n",
       "      <td>North Indian, Rajasthani</td>\n",
       "      <td>600</td>\n",
       "      <td>[('Rated 4.0', 'RATED\\n  Very good restaurant ...</td>\n",
       "      <td>[]</td>\n",
       "      <td>Buffet</td>\n",
       "      <td>Banashankari</td>\n",
       "    </tr>\n",
       "  </tbody>\n",
       "</table>\n",
       "</div>"
      ],
      "text/plain": [
       "                                                 url  \\\n",
       "0  https://www.zomato.com/bangalore/jalsa-banasha...   \n",
       "1  https://www.zomato.com/bangalore/spice-elephan...   \n",
       "2  https://www.zomato.com/SanchurroBangalore?cont...   \n",
       "3  https://www.zomato.com/bangalore/addhuri-udupi...   \n",
       "4  https://www.zomato.com/bangalore/grand-village...   \n",
       "\n",
       "                                             address                   name  \\\n",
       "0  942, 21st Main Road, 2nd Stage, Banashankari, ...                  Jalsa   \n",
       "1  2nd Floor, 80 Feet Road, Near Big Bazaar, 6th ...         Spice Elephant   \n",
       "2  1112, Next to KIMS Medical College, 17th Cross...        San Churro Cafe   \n",
       "3  1st Floor, Annakuteera, 3rd Stage, Banashankar...  Addhuri Udupi Bhojana   \n",
       "4  10, 3rd Floor, Lakshmi Associates, Gandhi Baza...          Grand Village   \n",
       "\n",
       "  online_order book_table   rate  votes                             phone  \\\n",
       "0          Yes        Yes  4.1/5    775    080 42297555\\r\\n+91 9743772233   \n",
       "1          Yes         No  4.1/5    787                      080 41714161   \n",
       "2          Yes         No  3.8/5    918                    +91 9663487993   \n",
       "3           No         No  3.7/5     88                    +91 9620009302   \n",
       "4           No         No  3.8/5    166  +91 8026612447\\r\\n+91 9901210005   \n",
       "\n",
       "       location            rest_type  \\\n",
       "0  Banashankari        Casual Dining   \n",
       "1  Banashankari        Casual Dining   \n",
       "2  Banashankari  Cafe, Casual Dining   \n",
       "3  Banashankari          Quick Bites   \n",
       "4  Basavanagudi        Casual Dining   \n",
       "\n",
       "                                          dish_liked  \\\n",
       "0  Pasta, Lunch Buffet, Masala Papad, Paneer Laja...   \n",
       "1  Momos, Lunch Buffet, Chocolate Nirvana, Thai G...   \n",
       "2  Churros, Cannelloni, Minestrone Soup, Hot Choc...   \n",
       "3                                        Masala Dosa   \n",
       "4                                Panipuri, Gol Gappe   \n",
       "\n",
       "                         cuisines approx_cost(for two people)  \\\n",
       "0  North Indian, Mughlai, Chinese                         800   \n",
       "1     Chinese, North Indian, Thai                         800   \n",
       "2          Cafe, Mexican, Italian                         800   \n",
       "3      South Indian, North Indian                         300   \n",
       "4        North Indian, Rajasthani                         600   \n",
       "\n",
       "                                        reviews_list menu_item  \\\n",
       "0  [('Rated 4.0', 'RATED\\n  A beautiful place to ...        []   \n",
       "1  [('Rated 4.0', 'RATED\\n  Had been here for din...        []   \n",
       "2  [('Rated 3.0', \"RATED\\n  Ambience is not that ...        []   \n",
       "3  [('Rated 4.0', \"RATED\\n  Great food and proper...        []   \n",
       "4  [('Rated 4.0', 'RATED\\n  Very good restaurant ...        []   \n",
       "\n",
       "  listed_in(type) listed_in(city)  \n",
       "0          Buffet    Banashankari  \n",
       "1          Buffet    Banashankari  \n",
       "2          Buffet    Banashankari  \n",
       "3          Buffet    Banashankari  \n",
       "4          Buffet    Banashankari  "
      ]
     },
     "execution_count": 6,
     "metadata": {},
     "output_type": "execute_result"
    }
   ],
   "source": [
    "#printing the data\n",
    "zomato.head()"
   ]
  },
  {
   "cell_type": "code",
   "execution_count": 7,
   "id": "09bddc49",
   "metadata": {},
   "outputs": [
    {
     "data": {
      "text/plain": [
       "(51717, 17)"
      ]
     },
     "execution_count": 7,
     "metadata": {},
     "output_type": "execute_result"
    }
   ],
   "source": [
    "# rows and columns in data\n",
    "zomato.shape"
   ]
  },
  {
   "cell_type": "code",
   "execution_count": 10,
   "id": "74893c71",
   "metadata": {},
   "outputs": [
    {
     "data": {
      "text/plain": [
       "url                                0\n",
       "address                            0\n",
       "name                               0\n",
       "online_order                       0\n",
       "book_table                         0\n",
       "rate                            7775\n",
       "votes                              0\n",
       "phone                           1208\n",
       "location                          21\n",
       "rest_type                        227\n",
       "dish_liked                     28078\n",
       "cuisines                          45\n",
       "approx_cost(for two people)      346\n",
       "reviews_list                       0\n",
       "menu_item                          0\n",
       "listed_in(type)                    0\n",
       "listed_in(city)                    0\n",
       "dtype: int64"
      ]
     },
     "execution_count": 10,
     "metadata": {},
     "output_type": "execute_result"
    }
   ],
   "source": [
    "#checking for null values\n",
    "zomato.isnull().sum()"
   ]
  },
  {
   "cell_type": "code",
   "execution_count": 11,
   "id": "4e512c0e",
   "metadata": {},
   "outputs": [],
   "source": [
    "# dropping unnecessary columns\n",
    "\n",
    "zomato = zomato.drop([\"location\",\"rest_type\",\"cuisines\",\"url\",\"address\",\"name\",\"phone\",\"reviews_list\",\"menu_item\",\"listed_in(type)\",\"listed_in(city)\",\"dish_liked\",\"rate\"],axis = 1)"
   ]
  },
  {
   "cell_type": "code",
   "execution_count": 14,
   "id": "d5b5537c",
   "metadata": {},
   "outputs": [
    {
     "data": {
      "text/plain": [
       "Index(['online_order', 'book_table', 'votes', 'approx_cost(for two people)'], dtype='object')"
      ]
     },
     "execution_count": 14,
     "metadata": {},
     "output_type": "execute_result"
    }
   ],
   "source": [
    "# checking for available columns after dropping some the columns\n",
    "\n",
    "zomato.columns"
   ]
  },
  {
   "cell_type": "code",
   "execution_count": 16,
   "id": "2df006d2",
   "metadata": {},
   "outputs": [
    {
     "data": {
      "text/plain": [
       "online_order                     0\n",
       "book_table                       0\n",
       "votes                            0\n",
       "approx_cost(for two people)    346\n",
       "dtype: int64"
      ]
     },
     "execution_count": 16,
     "metadata": {},
     "output_type": "execute_result"
    }
   ],
   "source": [
    "#checking for null values\n",
    "\n",
    "zomato.isnull().sum()"
   ]
  },
  {
   "cell_type": "code",
   "execution_count": 17,
   "id": "c6135bb5",
   "metadata": {},
   "outputs": [
    {
     "data": {
      "text/plain": [
       "online_order                   0\n",
       "book_table                     0\n",
       "votes                          0\n",
       "approx_cost(for two people)    0\n",
       "dtype: int64"
      ]
     },
     "execution_count": 17,
     "metadata": {},
     "output_type": "execute_result"
    }
   ],
   "source": [
    "#filling null values using padding method\n",
    "\n",
    "zomato = zomato.fillna(method = \"pad\")\n",
    "\n",
    "#check again for null values\n",
    "zomato.isnull().sum()"
   ]
  },
  {
   "cell_type": "code",
   "execution_count": 19,
   "id": "9c3015ce",
   "metadata": {},
   "outputs": [],
   "source": [
    "#Label Encoding\n",
    "\n",
    "le = LabelEncoder()\n",
    "\n",
    "zomato[\"online_order\"] = le.fit_transform(zomato[\"online_order\"])\n",
    "\n",
    "zomato[\"book_table\"] = le.fit_transform(zomato[\"book_table\"])\n",
    "\n",
    "zomato[\"approx_cost(for two people)\"] = le.fit_transform(zomato[\"approx_cost(for two people)\"])"
   ]
  },
  {
   "cell_type": "code",
   "execution_count": 27,
   "id": "df8e424d",
   "metadata": {},
   "outputs": [
    {
     "name": "stdout",
     "output_type": "stream",
     "text": [
      "int64\n",
      "int32\n",
      "int32\n"
     ]
    }
   ],
   "source": [
    "# checking datatype after label encoding\n",
    "\n",
    "print(zomato[\"online_order\"].dtype)\n",
    "\n",
    "print(zomato[\"book_table\"].dtype)\n",
    "\n",
    "print(zomato[\"approx_cost(for two people)\"].dtype)"
   ]
  },
  {
   "cell_type": "code",
   "execution_count": 28,
   "id": "06e3d661",
   "metadata": {},
   "outputs": [
    {
     "data": {
      "text/html": [
       "<div>\n",
       "<style scoped>\n",
       "    .dataframe tbody tr th:only-of-type {\n",
       "        vertical-align: middle;\n",
       "    }\n",
       "\n",
       "    .dataframe tbody tr th {\n",
       "        vertical-align: top;\n",
       "    }\n",
       "\n",
       "    .dataframe thead th {\n",
       "        text-align: right;\n",
       "    }\n",
       "</style>\n",
       "<table border=\"1\" class=\"dataframe\">\n",
       "  <thead>\n",
       "    <tr style=\"text-align: right;\">\n",
       "      <th></th>\n",
       "      <th>online_order</th>\n",
       "      <th>book_table</th>\n",
       "      <th>votes</th>\n",
       "      <th>approx_cost(for two people)</th>\n",
       "    </tr>\n",
       "  </thead>\n",
       "  <tbody>\n",
       "    <tr>\n",
       "      <th>0</th>\n",
       "      <td>1</td>\n",
       "      <td>1</td>\n",
       "      <td>775</td>\n",
       "      <td>66</td>\n",
       "    </tr>\n",
       "    <tr>\n",
       "      <th>1</th>\n",
       "      <td>1</td>\n",
       "      <td>0</td>\n",
       "      <td>787</td>\n",
       "      <td>66</td>\n",
       "    </tr>\n",
       "    <tr>\n",
       "      <th>2</th>\n",
       "      <td>1</td>\n",
       "      <td>0</td>\n",
       "      <td>918</td>\n",
       "      <td>66</td>\n",
       "    </tr>\n",
       "    <tr>\n",
       "      <th>3</th>\n",
       "      <td>0</td>\n",
       "      <td>0</td>\n",
       "      <td>88</td>\n",
       "      <td>42</td>\n",
       "    </tr>\n",
       "    <tr>\n",
       "      <th>4</th>\n",
       "      <td>0</td>\n",
       "      <td>0</td>\n",
       "      <td>166</td>\n",
       "      <td>60</td>\n",
       "    </tr>\n",
       "  </tbody>\n",
       "</table>\n",
       "</div>"
      ],
      "text/plain": [
       "   online_order  book_table  votes  approx_cost(for two people)\n",
       "0             1           1    775                           66\n",
       "1             1           0    787                           66\n",
       "2             1           0    918                           66\n",
       "3             0           0     88                           42\n",
       "4             0           0    166                           60"
      ]
     },
     "execution_count": 28,
     "metadata": {},
     "output_type": "execute_result"
    }
   ],
   "source": [
    "zomato.head()"
   ]
  },
  {
   "cell_type": "markdown",
   "id": "463fd925",
   "metadata": {},
   "source": [
    "building model"
   ]
  },
  {
   "cell_type": "code",
   "execution_count": 32,
   "id": "bd16edad",
   "metadata": {},
   "outputs": [],
   "source": [
    "#defining x and y values\n",
    "\n",
    "x = zomato.drop([\"book_table\"],axis = 1)\n",
    "y = zomato[\"book_table\"]"
   ]
  },
  {
   "cell_type": "code",
   "execution_count": 33,
   "id": "71356837",
   "metadata": {},
   "outputs": [],
   "source": [
    "#train_test_split\n",
    "# splitting data into train and test data\n",
    "\n",
    "x_train , x_test, y_train, y_test = train_test_split(x,y, test_size = 0.3)"
   ]
  },
  {
   "cell_type": "markdown",
   "id": "5ddc1c5a",
   "metadata": {},
   "source": [
    "### Decision Tree Classifier"
   ]
  },
  {
   "cell_type": "code",
   "execution_count": 34,
   "id": "0ac256a0",
   "metadata": {},
   "outputs": [],
   "source": [
    "dtc = DecisionTreeClassifier()\n",
    "\n",
    "dtc.fit(x_train, y_train)\n",
    "prediction = dtc.predict(x_train)"
   ]
  },
  {
   "cell_type": "code",
   "execution_count": 37,
   "id": "7dd1ccfe",
   "metadata": {},
   "outputs": [
    {
     "name": "stdout",
     "output_type": "stream",
     "text": [
      "confusion matrix:\n",
      "[[31581    67]\n",
      " [  264  4289]]\n",
      "\n",
      "\n",
      "accuracy score : \n",
      "0.9908566061711003\n"
     ]
    }
   ],
   "source": [
    "#check performance of decison tree for trainig data\n",
    "\n",
    "print(\"confusion matrix:\")\n",
    "print(confusion_matrix(y_train, prediction))\n",
    "print(\"\\n\")\n",
    "print(\"accuracy score : \")\n",
    "print(accuracy_score(y_train,prediction))"
   ]
  },
  {
   "cell_type": "code",
   "execution_count": 40,
   "id": "2a7d4a1e",
   "metadata": {},
   "outputs": [
    {
     "name": "stdout",
     "output_type": "stream",
     "text": [
      "0.9777004382572828\n"
     ]
    }
   ],
   "source": [
    "#prediction and accuracy for test data\n",
    "test_predict = dtc.predict(x_test)\n",
    "print(accuracy_score(y_test, test_predict))"
   ]
  },
  {
   "cell_type": "markdown",
   "id": "f5c279aa",
   "metadata": {},
   "source": [
    "### Random forest classifier"
   ]
  },
  {
   "cell_type": "code",
   "execution_count": 41,
   "id": "99205450",
   "metadata": {},
   "outputs": [],
   "source": [
    "rfc = RandomForestClassifier()\n",
    "\n",
    "rfc.fit(x_train, y_train)\n",
    "prediction = rfc.predict(x_train)"
   ]
  },
  {
   "cell_type": "code",
   "execution_count": 42,
   "id": "251db14d",
   "metadata": {},
   "outputs": [
    {
     "name": "stdout",
     "output_type": "stream",
     "text": [
      "confusion matrix:\n",
      "[[31569    79]\n",
      " [  252  4301]]\n",
      "\n",
      "\n",
      "accuracy score : \n",
      "0.9908566061711003\n"
     ]
    }
   ],
   "source": [
    "#check performance of random forest for trainig data\n",
    "\n",
    "print(\"confusion matrix:\")\n",
    "print(confusion_matrix(y_train, prediction))\n",
    "print(\"\\n\")\n",
    "print(\"accuracy score : \")\n",
    "print(accuracy_score(y_train,prediction))"
   ]
  },
  {
   "cell_type": "code",
   "execution_count": 45,
   "id": "b96149a1",
   "metadata": {},
   "outputs": [
    {
     "name": "stdout",
     "output_type": "stream",
     "text": [
      "0.9793761278680072\n"
     ]
    }
   ],
   "source": [
    "#prediction and accuracy for test data\n",
    "test_predict = rfc.predict(x_test)\n",
    "print(accuracy_score(y_test, test_predict))"
   ]
  },
  {
   "cell_type": "markdown",
   "id": "3288e255",
   "metadata": {},
   "source": [
    "### AdaBoost classifier"
   ]
  },
  {
   "cell_type": "code",
   "execution_count": 43,
   "id": "cdca47b9",
   "metadata": {},
   "outputs": [],
   "source": [
    "adb = AdaBoostClassifier()\n",
    "\n",
    "adb.fit(x_train, y_train)\n",
    "prediction = adb.predict(x_train)"
   ]
  },
  {
   "cell_type": "code",
   "execution_count": 44,
   "id": "5a88e3e4",
   "metadata": {},
   "outputs": [
    {
     "name": "stdout",
     "output_type": "stream",
     "text": [
      "confusion matrix:\n",
      "[[30554  1094]\n",
      " [ 1424  3129]]\n",
      "\n",
      "\n",
      "accuracy score : \n",
      "0.9304439103892158\n"
     ]
    }
   ],
   "source": [
    "#check performance of adaboost for trainig data\n",
    "\n",
    "print(\"confusion matrix:\")\n",
    "print(confusion_matrix(y_train, prediction))\n",
    "print(\"\\n\")\n",
    "print(\"accuracy score : \")\n",
    "print(accuracy_score(y_train,prediction))"
   ]
  },
  {
   "cell_type": "code",
   "execution_count": 46,
   "id": "cd80b441",
   "metadata": {},
   "outputs": [
    {
     "name": "stdout",
     "output_type": "stream",
     "text": [
      "0.9289765403454499\n"
     ]
    }
   ],
   "source": [
    "#prediction and accuracy for test data\n",
    "test_predict = adb.predict(x_test)\n",
    "print(accuracy_score(y_test, test_predict))"
   ]
  },
  {
   "cell_type": "markdown",
   "id": "11878695",
   "metadata": {},
   "source": [
    "#### what I learn from this?"
   ]
  },
  {
   "cell_type": "markdown",
   "id": "42755ded",
   "metadata": {},
   "source": [
    "Based on the confusion matrices and accuracy scores that we got, it appears that the Decision Tree Classifier and Random Forest Classifier are performing quite well on the  dataset. \n",
    "Both models have high accuracy scores, with the Decision Tree Classifier and Random Forest Classifier achieving an accuracy score of 0.9908 on the training data.\n",
    "\n",
    "\n",
    "The confusion matrices show that both models have very low false positive and false negative rates.\n",
    "This suggests that the models are able to accurately classify the data and make reliable predictions.\n",
    "\n",
    "On the other hand, the Adaboost Classifier has a lower accuracy score of 0.9304 on the training data, \n",
    "indicating that it may not be performing as well as the Decision Tree Classifier and Random Forest Classifier.\n",
    "\n",
    "Overall, it seems that the Decision Tree Classifier and Random Forest Classifier are strong models for the dataset, while the Adaboost Classifier may need \n",
    "further tuning or exploration to improve its performance"
   ]
  },
  {
   "cell_type": "code",
   "execution_count": null,
   "id": "aea67047",
   "metadata": {},
   "outputs": [],
   "source": []
  }
 ],
 "metadata": {
  "kernelspec": {
   "display_name": "Python 3 (ipykernel)",
   "language": "python",
   "name": "python3"
  },
  "language_info": {
   "codemirror_mode": {
    "name": "ipython",
    "version": 3
   },
   "file_extension": ".py",
   "mimetype": "text/x-python",
   "name": "python",
   "nbconvert_exporter": "python",
   "pygments_lexer": "ipython3",
   "version": "3.9.12"
  }
 },
 "nbformat": 4,
 "nbformat_minor": 5
}
